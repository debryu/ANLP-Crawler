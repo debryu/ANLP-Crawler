{
 "cells": [
  {
   "cell_type": "code",
   "execution_count": null,
   "metadata": {},
   "outputs": [],
   "source": [
    "from selenium import webdriver\n",
    "from selenium.webdriver.support import expected_conditions as EC\n",
    "from selenium.webdriver.support.ui import WebDriverWait\n",
    "from selenium.webdriver.support.ui import Select\n",
    "from selenium.webdriver.common.by import By\n",
    "from selenium.webdriver.common.keys import Keys\n",
    "from time import sleep\n",
    "\n",
    "# Set up the Chrome driver\n",
    "options = webdriver.ChromeOptions()\n",
    "#options.add_argument('--headless')\n",
    "driver = webdriver.Chrome('./chromedriver', options=options)\n",
    "wait = WebDriverWait(driver, 10)\n",
    "\n",
    "\n",
    "url = 'https://www.giustizia-amministrativa.it/web/guest/dcsnprr?p_p_id=GaSearch_INSTANCE_2NDgCF3zWBwk&p_p_state=normal&p_p_mode=view&_GaSearch_INSTANCE_2NDgCF3zWBwk_javax.portlet.action=searchProvvedimenti&p_auth=mtYPa33V&p_p_lifecycle=0'\n",
    "driver.get(url)\n",
    "\n",
    "text_name = '_GaSearch_INSTANCE_2NDgCF3zWBwk_searchtextProvvedimenti'\n",
    "input_field = driver.find_element(\"name\",text_name)\n",
    "\n",
    "input_field.send_keys(\"sentenza\")\n",
    "\n",
    "\n",
    "\n",
    "\n",
    "dropdown_element = driver.find_element(\"name\", '_GaSearch_INSTANCE_2NDgCF3zWBwk_pageResultsProvvedimenti')\n",
    "dropdown = Select(dropdown_element)\n",
    "dropdown.select_by_value(\"60\")\n",
    "\n",
    "input_field.send_keys(Keys.ENTER)\n",
    "\n",
    "\n",
    "#wait.until(EC.visibility_of_element_located((By.XPATH, '//div[@class=\"col-sm-9 risultati--ricerca\"]')))\n",
    "wait.until(EC.visibility_of_element_located((By.CLASS_NAME, \"ricerca--item\")))\n",
    "#sleep(10)\n",
    "content = driver.page_source\n",
    "nextPage(driver)\n",
    "#driver.quit()"
   ]
  },
  {
   "cell_type": "code",
   "execution_count": 29,
   "metadata": {},
   "outputs": [
    {
     "name": "stdout",
     "output_type": "stream",
     "text": [
      "60 1338992\n"
     ]
    },
    {
     "data": {
      "text/plain": [
       "('60', '1338992')"
      ]
     },
     "execution_count": 29,
     "metadata": {},
     "output_type": "execute_result"
    }
   ],
   "source": [
    "def getPageElement(page_content):\n",
    "    page = BeautifulSoup(page_content, 'html.parser')\n",
    "    footer = page.find_all('article')\n",
    "    text = footer[60].find('div',{'class':'col-sm-12'}).text\n",
    "    text = text.split('Risultati da ')[1].split(' ')\n",
    "    print(text[2],text[4])\n",
    "    return text[2],text[4]\n",
    "\n",
    "getPageElement(content)"
   ]
  },
  {
   "cell_type": "code",
   "execution_count": 27,
   "metadata": {},
   "outputs": [],
   "source": [
    "driver.quit()"
   ]
  },
  {
   "cell_type": "code",
   "execution_count": 79,
   "metadata": {},
   "outputs": [
    {
     "name": "stdout",
     "output_type": "stream",
     "text": [
      "61\n"
     ]
    }
   ],
   "source": [
    "from bs4 import BeautifulSoup\n",
    "\n",
    "content = driver.page_source\n",
    "\n",
    "# Get the page source and parse it with BeautifulSoup\n",
    "#content = driver.page_source\n",
    "soup = BeautifulSoup(content, 'html.parser')\n",
    "\n",
    "articles = soup.find_all('article')\n",
    "# Extract the data you want\n",
    "print(len(articles))\n"
   ]
  },
  {
   "cell_type": "code",
   "execution_count": 86,
   "metadata": {},
   "outputs": [
    {
     "name": "stdout",
     "output_type": "stream",
     "text": [
      "60\n",
      "60\n",
      "['202306351 (ROMA, SEZIONE 2B) html', '202306345 (ROMA, SEZIONE 1B) html', '202306344 (ROMA, SEZIONE 5B) html', '202306342 (ROMA, SEZIONE 2T) html', '202306341 (ROMA, SEZIONE 2T) html', '202306340 (ROMA, SEZIONE 2T) html', '202306339 (ROMA, SEZIONE 2T) html', '202306338 (ROMA, SEZIONE 2T) html', '202306337 (ROMA, SEZIONE 2T) html', '202306336 (ROMA, SEZIONE 2T) html', '202306334 (ROMA, SEZIONE 2T) html', '202306333 (ROMA, SEZIONE 2T) html', '202306332 (ROMA, SEZIONE 2T) html', '202306331 (ROMA, SEZIONE 3T) html', '202306330 (ROMA, SEZIONE 2S) html', '202306329 (ROMA, SEZIONE 2) html', '202306328 (ROMA, SEZIONE 2S) html', '202306327 (ROMA, SEZIONE 2S) html', '202306325 (ROMA, SEZIONE 2) html', '202306324 (ROMA, SEZIONE 2) html', '202306323 (ROMA, SEZIONE 2) html', '202306322 (ROMA, SEZIONE 2) html', '202306321 (ROMA, SEZIONE 2S) html', '202306319 (ROMA, SEZIONE 2S) html', '202306318 (ROMA, SEZIONE 1Q) html', '202306315 (ROMA, SEZIONE 2) html', '202306314 (ROMA, SEZIONE 2) html', '202306313 (ROMA, SEZIONE 2) html', '202306312 (ROMA, SEZIONE 2) html', '202306310 (ROMA, SEZIONE 2) html', '202306308 (ROMA, SEZIONE 2) html', '202306307 (ROMA, SEZIONE 2) html', '202306306 (ROMA, SEZIONE 2S) html', '202306305 (ROMA, SEZIONE 2S) html', '202306301 (ROMA, SEZIONE 3B) html', '202306300 (ROMA, SEZIONE 3B) html', '202306299 (ROMA, SEZIONE 3B) html', '202306298 (ROMA, SEZIONE 3B) html', '202306296 (ROMA, SEZIONE 3B) html', '202306295 (ROMA, SEZIONE 3B) html', '202306294 (ROMA, SEZIONE 3B) html', '202306293 (ROMA, SEZIONE 3B) html', '202306291 (ROMA, SEZIONE 3) html', '202306290 (ROMA, SEZIONE 3) html', '202306289 (ROMA, SEZIONE 3) html', '202306288 (ROMA, SEZIONE 3) html', '202306287 (ROMA, SEZIONE 3) html', '202306286 (ROMA, SEZIONE 3Q) html', '202306285 (ROMA, SEZIONE 3) html', '202306284 (ROMA, SEZIONE 3Q) html', '202306283 (ROMA, SEZIONE 3Q) html', '202306282 (ROMA, SEZIONE 2T) html', '202306281 (ROMA, SEZIONE 1) html', '202306280 (ROMA, SEZIONE 1B) html', '202306279 (ROMA, SEZIONE 5) html', '202306278 (ROMA, SEZIONE 2S) html', '202306277 (ROMA, SEZIONE 2S) html', '202306276 (ROMA, SEZIONE 2T) html', '202306275 (ROMA, SEZIONE 2T) html', '202306274 (ROMA, SEZIONE 2T) html']\n",
      "Extracted 60 PDFs and 60 descriptions\n",
      "202306351 (ROMA, SEZIONE 2B) html\n"
     ]
    }
   ],
   "source": [
    "#print(articles[0])\n",
    "prefix = 'https://www.giustizia-amministrativa.it'\n",
    "\n",
    "PDF = []\n",
    "ID = []\n",
    "for article in articles:\n",
    "    linkToPDF = article.find('a', {'class': 'visited-provvedimenti', 'title': 'Versione highlighted'})\n",
    "    if(linkToPDF == None):\n",
    "        continue\n",
    "    PDFurl = prefix + linkToPDF['href']\n",
    "    ID.append(linkToPDF.text)\n",
    "    PDF.append(PDFurl)\n",
    "\n",
    "print(len(PDF))\n",
    "print(len(ID))\n",
    "print(ID)\n",
    "\n",
    "print(getPDFs([content])[1][0])"
   ]
  },
  {
   "cell_type": "code",
   "execution_count": 96,
   "metadata": {},
   "outputs": [],
   "source": [
    "from selenium import webdriver\n",
    "from selenium.webdriver.support import expected_conditions as EC\n",
    "from selenium.webdriver.support.ui import WebDriverWait\n",
    "from selenium.webdriver.support.ui import Select\n",
    "from selenium.webdriver.common.by import By\n",
    "from selenium.webdriver.common.keys import Keys\n",
    "from time import sleep\n",
    "\n",
    "def scrapeData(earlyStopping = False):\n",
    "    pages = []\n",
    "    # Set up the Chrome driver\n",
    "    options = webdriver.ChromeOptions()\n",
    "    options.add_argument('--headless')\n",
    "    driver = webdriver.Chrome('./chromedriver', options=options)\n",
    "    wait = WebDriverWait(driver, 10)\n",
    "    \n",
    "    #Set the url\n",
    "    url = 'https://www.giustizia-amministrativa.it/web/guest/dcsnprr?p_p_id=GaSearch_INSTANCE_2NDgCF3zWBwk&p_p_state=normal&p_p_mode=view&_GaSearch_INSTANCE_2NDgCF3zWBwk_javax.portlet.action=searchProvvedimenti&p_auth=mtYPa33V&p_p_lifecycle=0'\n",
    "    driver.get(url)\n",
    "\n",
    "    #Set the query correctly\n",
    "    text_name = '_GaSearch_INSTANCE_2NDgCF3zWBwk_searchtextProvvedimenti'\n",
    "    input_field = driver.find_element(\"name\",text_name)\n",
    "\n",
    "    input_field.send_keys(\"sentenza\")\n",
    "\n",
    "    dropdown_element = driver.find_element(\"name\", '_GaSearch_INSTANCE_2NDgCF3zWBwk_pageResultsProvvedimenti')\n",
    "    dropdown = Select(dropdown_element)\n",
    "    dropdown.select_by_value(\"60\")\n",
    "\n",
    "    #Press enter to start the search\n",
    "    input_field.send_keys(Keys.ENTER)\n",
    "\n",
    "\n",
    "    #Extract the page\n",
    "    page = extractPage(wait,driver)\n",
    "    pages.append(page)\n",
    "    current,total = getPageElement(page)\n",
    "\n",
    "    #Extract the other pages \n",
    "    if(earlyStopping != False):\n",
    "        total = earlyStopping\n",
    "    while(int(current) < int(total)):\n",
    "        nextPage(driver)\n",
    "        page = extractPage(wait,driver)\n",
    "        pages.append(page)\n",
    "        current,total = getPageElement(page)\n",
    "        if(earlyStopping != False):\n",
    "            total = earlyStopping\n",
    "\n",
    "\n",
    "    driver.quit()\n",
    "\n",
    "    return pages\n",
    "\n",
    "def nextPage(dr):\n",
    "    nextPageButton = dr.find_element(By.LINK_TEXT, 'Successivo')\n",
    "    nextPageButton.click()\n",
    "    #print(nextPageButton)\n",
    "\n",
    "\n",
    "def extractPage(w,d):\n",
    "    #wait.until(EC.visibility_of_element_located((By.XPATH, '//div[@class=\"col-sm-9 risultati--ricerca\"]')))\n",
    "    w.until(EC.visibility_of_element_located((By.CLASS_NAME, \"ricerca--item\")))\n",
    "    #sleep(10)\n",
    "    content = d.page_source\n",
    "    return content"
   ]
  },
  {
   "cell_type": "code",
   "execution_count": 87,
   "metadata": {},
   "outputs": [],
   "source": [
    "def getPDFs(pages):\n",
    "    PDF = []\n",
    "    ID = []\n",
    "\n",
    "    for page in pages:\n",
    "        listOfItems = BeautifulSoup(page, 'html.parser')\n",
    "        articles = soup.find_all('article')\n",
    "        prefix = 'https://www.giustizia-amministrativa.it'\n",
    "        \n",
    "        for article in articles:\n",
    "            linkToPDF = article.find('a', {'class': 'visited-provvedimenti', 'title': 'Versione highlighted'})\n",
    "            if(linkToPDF == None):\n",
    "                continue\n",
    "            PDFurl = prefix + linkToPDF['href']\n",
    "            ID.append(linkToPDF.text)\n",
    "            PDF.append(PDFurl)\n",
    "\n",
    "    print(f'Extracted {len(PDF)} PDFs and {len(ID)} descriptions')\n",
    "    return PDF,ID"
   ]
  },
  {
   "cell_type": "code",
   "execution_count": 97,
   "metadata": {},
   "outputs": [
    {
     "name": "stderr",
     "output_type": "stream",
     "text": [
      "/var/folders/l8/hdp9mfm55nq2xqyctskbfdvr0000gn/T/ipykernel_50816/1003509641.py:14: DeprecationWarning: executable_path has been deprecated, please pass in a Service object\n",
      "  driver = webdriver.Chrome('./chromedriver', options=options)\n"
     ]
    },
    {
     "name": "stdout",
     "output_type": "stream",
     "text": [
      "60 1338992\n",
      "120 1338992\n",
      "Estratte 2 pagine da 60 sentenze!\n",
      "Extracted 120 PDFs and 120 descriptions\n"
     ]
    }
   ],
   "source": [
    "\n",
    "pagine = scrapeData(61)\n",
    "print(f'Estratte {len(pagine)} pagine da 60 sentenze!')\n",
    "\n",
    "PDFs,IDs = getPDFs(pagine)"
   ]
  },
  {
   "cell_type": "code",
   "execution_count": 99,
   "metadata": {},
   "outputs": [
    {
     "name": "stdout",
     "output_type": "stream",
     "text": [
      "['202306351 (ROMA, SEZIONE 2B) html', '202306345 (ROMA, SEZIONE 1B) html', '202306344 (ROMA, SEZIONE 5B) html', '202306342 (ROMA, SEZIONE 2T) html', '202306341 (ROMA, SEZIONE 2T) html', '202306340 (ROMA, SEZIONE 2T) html', '202306339 (ROMA, SEZIONE 2T) html', '202306338 (ROMA, SEZIONE 2T) html', '202306337 (ROMA, SEZIONE 2T) html', '202306336 (ROMA, SEZIONE 2T) html', '202306334 (ROMA, SEZIONE 2T) html', '202306333 (ROMA, SEZIONE 2T) html', '202306332 (ROMA, SEZIONE 2T) html', '202306331 (ROMA, SEZIONE 3T) html', '202306330 (ROMA, SEZIONE 2S) html', '202306329 (ROMA, SEZIONE 2) html', '202306328 (ROMA, SEZIONE 2S) html', '202306327 (ROMA, SEZIONE 2S) html', '202306325 (ROMA, SEZIONE 2) html', '202306324 (ROMA, SEZIONE 2) html', '202306323 (ROMA, SEZIONE 2) html', '202306322 (ROMA, SEZIONE 2) html', '202306321 (ROMA, SEZIONE 2S) html', '202306319 (ROMA, SEZIONE 2S) html', '202306318 (ROMA, SEZIONE 1Q) html', '202306315 (ROMA, SEZIONE 2) html', '202306314 (ROMA, SEZIONE 2) html', '202306313 (ROMA, SEZIONE 2) html', '202306312 (ROMA, SEZIONE 2) html', '202306310 (ROMA, SEZIONE 2) html', '202306308 (ROMA, SEZIONE 2) html', '202306307 (ROMA, SEZIONE 2) html', '202306306 (ROMA, SEZIONE 2S) html', '202306305 (ROMA, SEZIONE 2S) html', '202306301 (ROMA, SEZIONE 3B) html', '202306300 (ROMA, SEZIONE 3B) html', '202306299 (ROMA, SEZIONE 3B) html', '202306298 (ROMA, SEZIONE 3B) html', '202306296 (ROMA, SEZIONE 3B) html', '202306295 (ROMA, SEZIONE 3B) html', '202306294 (ROMA, SEZIONE 3B) html', '202306293 (ROMA, SEZIONE 3B) html', '202306291 (ROMA, SEZIONE 3) html', '202306290 (ROMA, SEZIONE 3) html', '202306289 (ROMA, SEZIONE 3) html', '202306288 (ROMA, SEZIONE 3) html', '202306287 (ROMA, SEZIONE 3) html', '202306286 (ROMA, SEZIONE 3Q) html', '202306285 (ROMA, SEZIONE 3) html', '202306284 (ROMA, SEZIONE 3Q) html', '202306283 (ROMA, SEZIONE 3Q) html', '202306282 (ROMA, SEZIONE 2T) html', '202306281 (ROMA, SEZIONE 1) html', '202306280 (ROMA, SEZIONE 1B) html', '202306279 (ROMA, SEZIONE 5) html', '202306278 (ROMA, SEZIONE 2S) html', '202306277 (ROMA, SEZIONE 2S) html', '202306276 (ROMA, SEZIONE 2T) html', '202306275 (ROMA, SEZIONE 2T) html', '202306274 (ROMA, SEZIONE 2T) html', '202306351 (ROMA, SEZIONE 2B) html', '202306345 (ROMA, SEZIONE 1B) html', '202306344 (ROMA, SEZIONE 5B) html', '202306342 (ROMA, SEZIONE 2T) html', '202306341 (ROMA, SEZIONE 2T) html', '202306340 (ROMA, SEZIONE 2T) html', '202306339 (ROMA, SEZIONE 2T) html', '202306338 (ROMA, SEZIONE 2T) html', '202306337 (ROMA, SEZIONE 2T) html', '202306336 (ROMA, SEZIONE 2T) html', '202306334 (ROMA, SEZIONE 2T) html', '202306333 (ROMA, SEZIONE 2T) html', '202306332 (ROMA, SEZIONE 2T) html', '202306331 (ROMA, SEZIONE 3T) html', '202306330 (ROMA, SEZIONE 2S) html', '202306329 (ROMA, SEZIONE 2) html', '202306328 (ROMA, SEZIONE 2S) html', '202306327 (ROMA, SEZIONE 2S) html', '202306325 (ROMA, SEZIONE 2) html', '202306324 (ROMA, SEZIONE 2) html', '202306323 (ROMA, SEZIONE 2) html', '202306322 (ROMA, SEZIONE 2) html', '202306321 (ROMA, SEZIONE 2S) html', '202306319 (ROMA, SEZIONE 2S) html', '202306318 (ROMA, SEZIONE 1Q) html', '202306315 (ROMA, SEZIONE 2) html', '202306314 (ROMA, SEZIONE 2) html', '202306313 (ROMA, SEZIONE 2) html', '202306312 (ROMA, SEZIONE 2) html', '202306310 (ROMA, SEZIONE 2) html', '202306308 (ROMA, SEZIONE 2) html', '202306307 (ROMA, SEZIONE 2) html', '202306306 (ROMA, SEZIONE 2S) html', '202306305 (ROMA, SEZIONE 2S) html', '202306301 (ROMA, SEZIONE 3B) html', '202306300 (ROMA, SEZIONE 3B) html', '202306299 (ROMA, SEZIONE 3B) html', '202306298 (ROMA, SEZIONE 3B) html', '202306296 (ROMA, SEZIONE 3B) html', '202306295 (ROMA, SEZIONE 3B) html', '202306294 (ROMA, SEZIONE 3B) html', '202306293 (ROMA, SEZIONE 3B) html', '202306291 (ROMA, SEZIONE 3) html', '202306290 (ROMA, SEZIONE 3) html', '202306289 (ROMA, SEZIONE 3) html', '202306288 (ROMA, SEZIONE 3) html', '202306287 (ROMA, SEZIONE 3) html', '202306286 (ROMA, SEZIONE 3Q) html', '202306285 (ROMA, SEZIONE 3) html', '202306284 (ROMA, SEZIONE 3Q) html', '202306283 (ROMA, SEZIONE 3Q) html', '202306282 (ROMA, SEZIONE 2T) html', '202306281 (ROMA, SEZIONE 1) html', '202306280 (ROMA, SEZIONE 1B) html', '202306279 (ROMA, SEZIONE 5) html', '202306278 (ROMA, SEZIONE 2S) html', '202306277 (ROMA, SEZIONE 2S) html', '202306276 (ROMA, SEZIONE 2T) html', '202306275 (ROMA, SEZIONE 2T) html', '202306274 (ROMA, SEZIONE 2T) html']\n",
      "https://www.giustizia-amministrativa.it/portale/pages/istituzionale/visualizza/?nodeRef=&schema=tar_rm&nrg=202301640&nomeFile=202306351_01.html&subDir=Provvedimenti\n"
     ]
    }
   ],
   "source": [
    "print(IDs)\n",
    "print(PDFs[0])"
   ]
  }
 ],
 "metadata": {
  "kernelspec": {
   "display_name": "appliednlp",
   "language": "python",
   "name": "python3"
  },
  "language_info": {
   "codemirror_mode": {
    "name": "ipython",
    "version": 3
   },
   "file_extension": ".py",
   "mimetype": "text/x-python",
   "name": "python",
   "nbconvert_exporter": "python",
   "pygments_lexer": "ipython3",
   "version": "3.9.16"
  },
  "orig_nbformat": 4
 },
 "nbformat": 4,
 "nbformat_minor": 2
}
